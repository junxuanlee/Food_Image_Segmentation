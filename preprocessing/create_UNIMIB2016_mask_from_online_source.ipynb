{
 "cells": [
  {
   "cell_type": "code",
   "execution_count": 1,
   "metadata": {},
   "outputs": [],
   "source": [
    "#http://www.ivl.disco.unimib.it/activities/food-recognition/"
   ]
  },
  {
   "cell_type": "code",
   "execution_count": 1,
   "metadata": {},
   "outputs": [],
   "source": [
    "import json\n",
    "import cv2\n",
    "import numpy as np\n",
    "from skimage.draw import polygon\n",
    "import imageio\n",
    "import os\n",
    "from progressbar import ProgressBar\n",
    "import shutil"
   ]
  },
  {
   "cell_type": "code",
   "execution_count": 2,
   "metadata": {},
   "outputs": [],
   "source": [
    "json_path1 = \".../UNIMIB2016 Food Database/train.json\"\n",
    "json_path2 = \".../UNIMIB2016 Food Database/val.json\"\n",
    "json_path3 = \".../UNIMIB2016 Food Database/test.json\"\n",
    "\n",
    "json_path1 = \"C:/Users/Admin/Desktop/jun/University/Year 4/GDP/work/code/notebooks/run/dataset/UNIMIB2016 Food Database/train.json\"\n",
    "json_path2 = \"C:/Users/Admin/Desktop/jun/University/Year 4/GDP/work/code/notebooks/run/dataset/UNIMIB2016 Food Database/val.json\"\n",
    "json_path3 = \"C:/Users/Admin/Desktop/jun/University/Year 4/GDP/work/code/notebooks/run/dataset/UNIMIB2016 Food Database/test.json\"\n",
    "\n",
    "with open(json_path1) as f:\n",
    "    data1 = json.load(f)\n",
    "    \n",
    "with open(json_path2) as f:\n",
    "    data2 = json.load(f)\n",
    "    \n",
    "with open(json_path3) as f:\n",
    "    data3 = json.load(f)"
   ]
  },
  {
   "cell_type": "code",
   "execution_count": null,
   "metadata": {},
   "outputs": [],
   "source": []
  },
  {
   "cell_type": "code",
   "execution_count": 4,
   "metadata": {},
   "outputs": [],
   "source": [
    "food = {}\n",
    "food_file = {}\n",
    "\n",
    "dat = [data1,data2,data3]\n",
    "\n",
    "for dd in dat:\n",
    "    data=dd\n",
    "    for d in data:\n",
    "        objects = data[d]\n",
    "        for ob in objects:\n",
    "            for food_name in ob:\n",
    "                if food_name not in food:\n",
    "                    food[food_name] = 1\n",
    "                    food_file[food_name] = [d]\n",
    "                else:\n",
    "                    food[food_name] = food[food_name] + 1\n",
    "                    food_file[food_name].append(d)\n"
   ]
  },
  {
   "cell_type": "code",
   "execution_count": 1,
   "metadata": {},
   "outputs": [],
   "source": [
    "#food_file['mandarini']"
   ]
  },
  {
   "cell_type": "code",
   "execution_count": 2,
   "metadata": {},
   "outputs": [],
   "source": [
    "#{'bread':479,'pasta':566,'chicken':93,'carrots':161,'yogurt':130,'pizza':89,'cutlet':148,'tangerines':198,'mashed potato':151,'spinach':110,'pudding':112}"
   ]
  },
  {
   "cell_type": "code",
   "execution_count": null,
   "metadata": {},
   "outputs": [],
   "source": []
  },
  {
   "cell_type": "code",
   "execution_count": 12,
   "metadata": {},
   "outputs": [],
   "source": [
    "seg_coord = {}\n",
    "classes = []\n",
    "\n",
    "for d in data:\n",
    "    objects = data[d]\n",
    "    \n",
    "    food = {}\n",
    "    food_list = []\n",
    "    for ob in objects:\n",
    "        \n",
    "        coor = {}\n",
    "        for food_name in ob:\n",
    "\n",
    "            if food_name not in classes:\n",
    "                classes.append(food_name)\n",
    "            \n",
    "            BR = ob[food_name]['BR']\n",
    "            BB = ob[food_name]['BB']\n",
    "            \n",
    "            w = []\n",
    "            h = []\n",
    "\n",
    "            for i in range(len(BR )):\n",
    "                if i%2 != 0:\n",
    "                    w.append(BR[i])\n",
    "                else:\n",
    "                    h.append(BR[i])   \n",
    "            \n",
    "            coor['w'] = w\n",
    "            coor['h'] = h\n",
    "            \n",
    "            food[food_name] = coor\n",
    "            \n",
    "    food_list.append(food)\n",
    "     \n",
    "    seg_coord[d+'.jpg'] = food_list\n"
   ]
  },
  {
   "cell_type": "code",
   "execution_count": null,
   "metadata": {},
   "outputs": [],
   "source": []
  },
  {
   "cell_type": "code",
   "execution_count": 5,
   "metadata": {},
   "outputs": [],
   "source": [
    "classes_en = ['bread','pasta','scallops','carrots','yogurt','pizza','cutlet','tangerines','potatoes/mashed potato','green beans', 'spinach','pudding']\n",
    "#we can use bread, pasta, carrots, pizza, tangerines"
   ]
  },
  {
   "cell_type": "code",
   "execution_count": 7,
   "metadata": {},
   "outputs": [],
   "source": [
    "values = [255-20*n for n in range(len(classes))] "
   ]
  },
  {
   "cell_type": "code",
   "execution_count": 8,
   "metadata": {},
   "outputs": [
    {
     "name": "stderr",
     "output_type": "stream",
     "text": [
      "100% |########################################################################|\n"
     ]
    }
   ],
   "source": [
    "pbar = ProgressBar()\n",
    "for f in pbar(seg_coord):\n",
    "    mask = np.zeros((2448,3264,3), dtype=np.uint8)\n",
    "    for foods in seg_coord[f]:\n",
    "        for fd in foods:\n",
    "            \n",
    "            w = foods[fd]['w']\n",
    "            h = foods[fd]['h']\n",
    "            r = np.array(w)\n",
    "            c = np.array(h)\n",
    "            rr, cc = polygon(r, c)\n",
    "            \n",
    "            mask[rr, cc] = values[classes.index(fd)]\n",
    "            \n",
    "    imageio.imwrite(\"C:/Users/Admin/Desktop/New folder (5)/datasets/food/test/\"+f[:-4]+\"AG\"+\".jpg\",mask)\n"
   ]
  },
  {
   "cell_type": "code",
   "execution_count": 9,
   "metadata": {},
   "outputs": [],
   "source": [
    "classes_en = ['bread','pasta','scallops','carrots','yogurt','pizza','cutlet','tangerines','potatoes/mashed potato','green beans', 'spinach','pudding']\n",
    "#bread, pasta, carrots, pizza, tangerines\n",
    "\n",
    "classes_wanted = ['bread', 'pasta', 'carrots', 'pizza', 'tangerines','potatoes/mashed potato']\n",
    "#values_wanted = [values[classes_en.index(c)] for c in classes_wanted]\n",
    "#values_unwanted = [v for v in values if v not in values_wanted]\n",
    "\n",
    "values = [255, 235, 215, 195, 175, 155, 135, 115, 95, 75, 55, 35]\n",
    "values_wanted = [255, 235, 195, 155, 115, 95]\n",
    "values_unwanted = [215, 175, 135, 75, 55, 35]"
   ]
  },
  {
   "cell_type": "code",
   "execution_count": null,
   "metadata": {},
   "outputs": [],
   "source": [
    "#remove unwanted segmentations\n",
    "mp = \"C:/Users/Admin/Desktop/New folder (5)/datasets/food/test_masks/\"\n",
    "masks = os.listdir(mp)\n",
    "\n",
    "for m in masks:\n",
    "    r = cv2.imread(mp+m)\n",
    "    \n",
    "    for vu in values_unwanted:\n",
    "        r[(r>vu-20) & (r<vu+20)] = 0\n",
    "    \n",
    "    plt.figure(figsize=(5, 5))\n",
    "    plt.axis('off')\n",
    "    plt.imshow(r)\n",
    "    \n",
    "    #imageio.imwrite(\"C:/Users/Admin/Desktop/New folder (5)/datasets/food/test_masks_reduced/\"+m,r)\n",
    "    break"
   ]
  },
  {
   "cell_type": "code",
   "execution_count": null,
   "metadata": {},
   "outputs": [],
   "source": []
  },
  {
   "cell_type": "code",
   "execution_count": null,
   "metadata": {},
   "outputs": [],
   "source": []
  },
  {
   "cell_type": "code",
   "execution_count": null,
   "metadata": {},
   "outputs": [],
   "source": []
  }
 ],
 "metadata": {
  "kernelspec": {
   "display_name": "Python 3",
   "language": "python",
   "name": "python3"
  },
  "language_info": {
   "codemirror_mode": {
    "name": "ipython",
    "version": 3
   },
   "file_extension": ".py",
   "mimetype": "text/x-python",
   "name": "python",
   "nbconvert_exporter": "python",
   "pygments_lexer": "ipython3",
   "version": "3.8.3"
  }
 },
 "nbformat": 4,
 "nbformat_minor": 4
}
