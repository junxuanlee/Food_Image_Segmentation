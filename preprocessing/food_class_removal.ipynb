{
 "cells": [
  {
   "cell_type": "code",
   "execution_count": null,
   "metadata": {},
   "outputs": [],
   "source": []
  },
  {
   "cell_type": "code",
   "execution_count": 1,
   "metadata": {},
   "outputs": [],
   "source": [
    "import os\n",
    "import cv2\n",
    "import imageio\n",
    "import matplotlib as plt\n",
    "from progressbar import ProgressBar\n",
    "import tensorflow as tf\n",
    "import matplotlib.pyplot as plt"
   ]
  },
  {
   "cell_type": "code",
   "execution_count": 2,
   "metadata": {},
   "outputs": [],
   "source": [
    "import random\n",
    "import cv2\n",
    "from matplotlib import pyplot as plt\n",
    "import albumentations as A\n",
    "import numpy as np\n",
    "\n",
    "def view_transform(image):\n",
    "    plt.figure(figsize=(5, 5))\n",
    "    plt.axis('off')\n",
    "    plt.imshow(image)"
   ]
  },
  {
   "cell_type": "code",
   "execution_count": 3,
   "metadata": {},
   "outputs": [],
   "source": [
    "import json\n",
    "import urllib.request\n",
    "import cv2\n",
    "import imageio\n",
    "import numpy as np\n",
    "import webcolors\n",
    "from contextlib import closing\n",
    "from urllib.request import urlopen\n",
    "import os"
   ]
  },
  {
   "cell_type": "code",
   "execution_count": 4,
   "metadata": {},
   "outputs": [],
   "source": [
    "img_path = 'C:/Users/Admin/Desktop/jun/University/Year 4/GDP/work/code/notebooks/run/ok/real images/test_images/'\n",
    "mask_path = 'C:/Users/Admin/Desktop/jun/University/Year 4/GDP/work/code/notebooks/run/ok/real images/test_masks/'"
   ]
  },
  {
   "cell_type": "code",
   "execution_count": 5,
   "metadata": {},
   "outputs": [],
   "source": [
    "classes_dir = \"C:/Users/Admin/Desktop/jun/University/Year 4/GDP/work/code/notebooks/run/ok/UNIMIB2016 Food Database/food_class.txt\"\n",
    "\n",
    "f = open(classes_dir, \"r\")\n",
    "classes = [x.replace('\\n', '').replace(' ','_') for x in f ]\n",
    "\n",
    "values = [255 - (classes.index(food_name)+1)*5 for food_name in classes]"
   ]
  },
  {
   "cell_type": "code",
   "execution_count": 7,
   "metadata": {},
   "outputs": [
    {
     "data": {
      "text/plain": [
       "[250, 245, 240, 235, 230, 225, 220, 215, 210, 205, 200, 195, 190]"
      ]
     },
     "execution_count": 7,
     "metadata": {},
     "output_type": "execute_result"
    }
   ],
   "source": [
    "values"
   ]
  },
  {
   "cell_type": "code",
   "execution_count": 6,
   "metadata": {},
   "outputs": [],
   "source": [
    "#classes = ['chips','banana','carrots','fish','peach','potatoes','broccoli','sandwich','custard','mashed_potatoes','sausage_roll',\n",
    "#           'cheese_pizza','bread','chicken','minted_summer_vegetables','cake','toast','cottage_pie','peas','jam_sponge',\n",
    "#           'biscuits','rice','mashed_swede','orange','fortified_tomato_&_lentil_soup','chicken_&_ham_pie','bbq_pork_&_pepper',\n",
    "#           'apple','pasta','vegetable_soup']\n",
    "\n",
    "#values2 = [values.index(v) +1 for v in values]\n",
    "#values2 = [1,2,3,4,5,6,7,8,9,10,11,12,13,14,15,16,17,18,19,20,21,22,23,24,25,26,27,28,29,30]"
   ]
  },
  {
   "cell_type": "code",
   "execution_count": 8,
   "metadata": {},
   "outputs": [],
   "source": [
    "new_mask_path = 'C:/Users/Admin/Desktop/jun/University/Year 4/GDP/work/code/notebooks/run/ok/real images/test_masks2/'"
   ]
  },
  {
   "cell_type": "code",
   "execution_count": 9,
   "metadata": {},
   "outputs": [
    {
     "name": "stderr",
     "output_type": "stream",
     "text": [
      "100% |########################################################################|\n"
     ]
    }
   ],
   "source": [
    "\n",
    "files = os.listdir(mask_path)\n",
    "\n",
    "pbar = ProgressBar()\n",
    "for f in pbar(files):\n",
    "    image = cv2.imread(mask_path+f)\n",
    "    image = cv2.resize(image,(128,128), interpolation=cv2.INTER_NEAREST)\n",
    "    #image = cv2.cvtColor(image, cv2.COLOR_BGR2RGB)\n",
    "\n",
    "    for k in range(len(values)):\n",
    "        image[image==values[k]] = values.index(values[k]) +1\n",
    "        \n",
    "    #To make sure no other than the food class labels/values present in the image\n",
    "    #image[(image!=1)&(image!=2)&(image!=3)&(image!=4)&(image!=5)&(image!=6)&(image!=7)&(image!=8)&(image!=9)&(image!=10)&(image!=11)&(image!=12)&(image!=13)&(image!=14)&(image!=15)&(image!=16)&(image!=17)&(image!=18)&(image!=19)&(image!=20)&(image!=21)&(image!=22)&(image!=23)&(image!=24)&(image!=25)&(image!=26)&(image!=27)&(image!=28)&(image!=29)&(image!=30)&(image!=31)&(image!=32)&(image!=33)&(image!=34)&(image!=35)&(image!=36)&(image!=37)&(image!=38)&(image!=39)] = 0    \n",
    "    #image[(image!=1)&(image!=2)&(image!=3)&(image!=4)&(image!=5)&(image!=6)&(image!=7)&(image!=8)&(image!=9)&(image!=10)&(image!=11)&(image!=12)&(image!=13)&(image!=14)&(image!=15)&(image!=16)&(image!=17)&(image!=18)&(image!=19)&(image!=20)&(image!=21)&(image!=22)&(image!=23)&(image!=24)&(image!=25)&(image!=26)&(image!=27)&(image!=28)&(image!=29)&(image!=30)] = 0 \n",
    "    #image[image>30] = 0 \n",
    "\n",
    "    #Create 1-channel mask\n",
    "    image2 = image[:,:,:1]\n",
    "\n",
    "\n",
    "    cv2.imwrite(new_mask_path+f,image2) #Always use .png as it uses lossless compression algorithms\n"
   ]
  },
  {
   "cell_type": "code",
   "execution_count": null,
   "metadata": {},
   "outputs": [],
   "source": []
  },
  {
   "cell_type": "code",
   "execution_count": null,
   "metadata": {},
   "outputs": [],
   "source": []
  },
  {
   "cell_type": "code",
   "execution_count": null,
   "metadata": {},
   "outputs": [],
   "source": []
  },
  {
   "cell_type": "code",
   "execution_count": null,
   "metadata": {},
   "outputs": [],
   "source": [
    "def nutrition__calculator (food, volume):\n",
    "    nutritions = {'bread'          :{'density':0.58, 'unit':32 , 'carbohydrate':12, 'protein':2   , 'fats':75  , 'fibre':1  , 'calorie':65},\n",
    "                  'pasta'          :{'density':0.52, 'unit':140, 'carbohydrate':12, 'protein':8.1 , 'fats':1.3 , 'fibre':2.5, 'calorie':221},\n",
    "                  'chicken'        :{'density':0.87, 'unit':85 , 'carbohydrate':12, 'protein':26  , 'fats':2.7 , 'fibre':0  , 'calorie':128},\n",
    "                  'carrots'        :{'density':0.46, 'unit':61 , 'carbohydrate':12, 'protein':0.6 , 'fats':0   , 'fibre':1.7, 'calorie':25},\n",
    "                  'pizza'          :{'density':1.07, 'unit':107, 'carbohydrate':12, 'protein':12.2, 'fats':10.4, 'fibre':2.5, 'calorie':285},\n",
    "                  'cutlet'         :{'density':0.87, 'unit':85 , 'carbohydrate':12, 'protein':26  , 'fats':2.7 , 'fibre':0  , 'calorie':128},\n",
    "                  'tangerines'     :{'density':1.05, 'unit':76 , 'carbohydrate':12, 'protein':0.6 , 'fats':0.2 , 'fibre':1.3, 'calorie':40},\n",
    "                  'mashed_potatoes':{'density':0.97, 'unit':173, 'carbohydrate':12, 'protein':4.6 , 'fats':0.2 , 'fibre':4  , 'calorie':164},\n",
    "                  'green_beans'    :{'density':1.01, 'unit':100, 'carbohydrate':12, 'protein':1.8 , 'fats':0.2 , 'fibre':2.7, 'calorie':31},\n",
    "                  'spinach'        :{'density':0.80, 'unit':85 , 'carbohydrate':12, 'protein':2   , 'fats':0   , 'fibre':0  , 'calorie':20}}\n",
    "    \n",
    "    density               = nutritions[food]['density']\n",
    "    unit                  = nutritions[food]['unit']\n",
    "    carbohydrate_per_gram = nutritions[food]['carbohydrate'] / unit\n",
    "    protein_per_gram      = nutritions[food]['protein'] / unit\n",
    "    fats_per_gram         = nutritions[food]['fats'] / unit\n",
    "    fibre_per_gram        = nutritions[food]['fibre'] / unit\n",
    "    calorie_per_gram      = nutritions[food]['calorie'] / unit\n",
    "                  \n",
    "    weight = density*volume\n",
    "    \n",
    "    total_carbohydrate = weight*carbohydrate_per_gram\n",
    "    total_protein      = weight*protein_per_gram\n",
    "    total_fats         = weight*fats_per_gram\n",
    "    total_fibre        = weight*fibre_per_gram\n",
    "    total_calorie      = weight*calorie_per_gram\n",
    "\n",
    "    \n",
    "    return total_carbohydrate, total_protein, total_fats, total_fibre, total_calorie\n",
    "        \n",
    "    "
   ]
  },
  {
   "cell_type": "code",
   "execution_count": null,
   "metadata": {},
   "outputs": [],
   "source": []
  },
  {
   "cell_type": "code",
   "execution_count": null,
   "metadata": {},
   "outputs": [],
   "source": []
  },
  {
   "cell_type": "code",
   "execution_count": null,
   "metadata": {},
   "outputs": [],
   "source": []
  },
  {
   "cell_type": "code",
   "execution_count": null,
   "metadata": {},
   "outputs": [],
   "source": []
  },
  {
   "cell_type": "code",
   "execution_count": null,
   "metadata": {},
   "outputs": [],
   "source": []
  },
  {
   "cell_type": "code",
   "execution_count": null,
   "metadata": {},
   "outputs": [],
   "source": []
  },
  {
   "cell_type": "code",
   "execution_count": null,
   "metadata": {},
   "outputs": [],
   "source": []
  },
  {
   "cell_type": "code",
   "execution_count": null,
   "metadata": {},
   "outputs": [],
   "source": []
  },
  {
   "cell_type": "code",
   "execution_count": null,
   "metadata": {},
   "outputs": [],
   "source": []
  }
 ],
 "metadata": {
  "kernelspec": {
   "display_name": "Python 3",
   "language": "python",
   "name": "python3"
  },
  "language_info": {
   "codemirror_mode": {
    "name": "ipython",
    "version": 3
   },
   "file_extension": ".py",
   "mimetype": "text/x-python",
   "name": "python",
   "nbconvert_exporter": "python",
   "pygments_lexer": "ipython3",
   "version": "3.8.3"
  }
 },
 "nbformat": 4,
 "nbformat_minor": 4
}
