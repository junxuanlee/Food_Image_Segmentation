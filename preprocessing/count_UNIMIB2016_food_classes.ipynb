{
 "cells": [
  {
   "cell_type": "code",
   "execution_count": 1,
   "metadata": {},
   "outputs": [],
   "source": [
    "import json\n",
    "import cv2\n",
    "import numpy as np\n",
    "from skimage.draw import polygon\n",
    "import imageio\n",
    "import os\n",
    "from progressbar import ProgressBar\n",
    "import shutil"
   ]
  },
  {
   "cell_type": "code",
   "execution_count": 4,
   "metadata": {},
   "outputs": [],
   "source": [
    "json_path1 = \"C:/Users/Admin/Desktop/jun/University/Year 4/GDP/work/code/notebooks/run/dataset/UNIMIB2016 Food Database/train.json\"\n",
    "json_path2 = \"C:/Users/Admin/Desktop/jun/University/Year 4/GDP/work/code/notebooks/run/dataset/UNIMIB2016 Food Database/val.json\"\n",
    "json_path3 = \"C:/Users/Admin/Desktop/jun/University/Year 4/GDP/work/code/notebooks/run/dataset/UNIMIB2016 Food Database/test.json\"\n",
    "\n",
    "with open(json_path1) as f1:\n",
    "    data1 = json.load(f1)\n",
    "    \n",
    "\n",
    "with open(json_path2) as f2:\n",
    "    data2 = json.load(f2)\n",
    "    \n",
    "\n",
    "with open(json_path3) as f3:\n",
    "    data3 = json.load(f3)\n",
    "    \n",
    "data123 = [data1,data2,data3]\n",
    "train_val_test = ['train','val','test']"
   ]
  },
  {
   "cell_type": "code",
   "execution_count": 7,
   "metadata": {},
   "outputs": [],
   "source": [
    "food_files = {}\n",
    "\n",
    "classes = []\n",
    "dataset = {}\n",
    "for d in range(len(data123)):\n",
    "    img_data = data123[d]\n",
    "    file_dict = {}\n",
    "    for file_name in img_data:\n",
    "        all_objects ={}\n",
    "        for nth_object in img_data[file_name]:\n",
    "            for food_name in nth_object:\n",
    "                \n",
    "                if food_name not in food_files:\n",
    "                    food_files[food_name] = [file_name]\n",
    "                else:\n",
    "                    food_files[food_name].append(file_name)\n",
    "                    \n",
    "                if food_name not in classes:\n",
    "                    classes.append(food_name)\n",
    "                coordinates = nth_object[food_name]['BR']\n",
    "\n",
    "                w = []\n",
    "                h = []\n",
    "                for i in range(len(coordinates)):\n",
    "                    if i%2 != 0:\n",
    "                        w.append(coordinates[i])\n",
    "                    else:\n",
    "                        h.append(coordinates[i])\n",
    "\n",
    "                all_objects[food_name] = [w,h]    \n",
    "\n",
    "        file_dict[file_name] = all_objects\n",
    "    \n",
    "    dataset[train_val_test[d]] = file_dict\n",
    "    \n",
    "    break"
   ]
  },
  {
   "cell_type": "code",
   "execution_count": 71,
   "metadata": {},
   "outputs": [
    {
     "data": {
      "text/plain": [
       "'20151127_122242'"
      ]
     },
     "execution_count": 71,
     "metadata": {},
     "output_type": "execute_result"
    }
   ],
   "source": [
    "food_files['budino'][1]"
   ]
  },
  {
   "cell_type": "code",
   "execution_count": null,
   "metadata": {},
   "outputs": [],
   "source": [
    "classes = ['pane', 'pasta', 'scaloppine', 'carote', 'yogurt', 'pizza', 'cotoletta', 'mandarini', 'patate/pure', 'fagiolini',\n",
    "           'spinaci', 'budino']"
   ]
  },
  {
   "cell_type": "code",
   "execution_count": null,
   "metadata": {},
   "outputs": [],
   "source": []
  },
  {
   "cell_type": "code",
   "execution_count": null,
   "metadata": {},
   "outputs": [],
   "source": []
  },
  {
   "cell_type": "code",
   "execution_count": null,
   "metadata": {},
   "outputs": [],
   "source": []
  },
  {
   "cell_type": "code",
   "execution_count": null,
   "metadata": {},
   "outputs": [],
   "source": []
  }
 ],
 "metadata": {
  "kernelspec": {
   "display_name": "Python 3",
   "language": "python",
   "name": "python3"
  },
  "language_info": {
   "codemirror_mode": {
    "name": "ipython",
    "version": 3
   },
   "file_extension": ".py",
   "mimetype": "text/x-python",
   "name": "python",
   "nbconvert_exporter": "python",
   "pygments_lexer": "ipython3",
   "version": "3.8.3"
  }
 },
 "nbformat": 4,
 "nbformat_minor": 4
}
